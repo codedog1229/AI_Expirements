{
  "nbformat": 4,
  "nbformat_minor": 0,
  "metadata": {
    "colab": {
      "provenance": [],
      "authorship_tag": "ABX9TyPuPCTNuSYnU6OXeTwE/FlV",
      "include_colab_link": true
    },
    "kernelspec": {
      "name": "python3",
      "display_name": "Python 3"
    },
    "language_info": {
      "name": "python"
    }
  },
  "cells": [
    {
      "cell_type": "markdown",
      "metadata": {
        "id": "view-in-github",
        "colab_type": "text"
      },
      "source": [
        "<a href=\"https://colab.research.google.com/github/codedog1229/AI_Expirements/blob/main/%E6%95%B0%E6%8D%AE%E6%93%8D%E4%BD%9C.ipynb\" target=\"_parent\"><img src=\"https://colab.research.google.com/assets/colab-badge.svg\" alt=\"Open In Colab\"/></a>"
      ]
    },
    {
      "cell_type": "markdown",
      "source": [
        "#2.1数据操作"
      ],
      "metadata": {
        "id": "ITUSqS4PAsnq"
      }
    },
    {
      "cell_type": "code",
      "execution_count": null,
      "metadata": {
        "id": "LOQ5qv0OAqM0"
      },
      "outputs": [],
      "source": [
        "import torch"
      ]
    },
    {
      "cell_type": "code",
      "source": [
        "#创建多维数组tensor\n",
        "x = torch.arange(12)\n",
        "x"
      ],
      "metadata": {
        "colab": {
          "base_uri": "https://localhost:8080/"
        },
        "id": "fo1okAz_A_pm",
        "outputId": "7ef9dabd-e471-4246-9492-99ba7aad1431"
      },
      "execution_count": null,
      "outputs": [
        {
          "output_type": "execute_result",
          "data": {
            "text/plain": [
              "tensor([ 0,  1,  2,  3,  4,  5,  6,  7,  8,  9, 10, 11])"
            ]
          },
          "metadata": {},
          "execution_count": 2
        }
      ]
    },
    {
      "cell_type": "code",
      "source": [
        "#查看某个tensor的形状\n",
        "x.shape"
      ],
      "metadata": {
        "colab": {
          "base_uri": "https://localhost:8080/"
        },
        "id": "ZzqWMhk1BOZq",
        "outputId": "6ee35e05-f60d-420b-8007-3d388a451173"
      },
      "execution_count": null,
      "outputs": [
        {
          "output_type": "execute_result",
          "data": {
            "text/plain": [
              "torch.Size([12])"
            ]
          },
          "metadata": {},
          "execution_count": 3
        }
      ]
    },
    {
      "cell_type": "code",
      "source": [
        "#查看tensor中元素个数\n",
        "x.numel()"
      ],
      "metadata": {
        "colab": {
          "base_uri": "https://localhost:8080/"
        },
        "id": "FWWg4i2PBcAQ",
        "outputId": "fef2145d-7dbf-444a-d651-4a8072957bde"
      },
      "execution_count": null,
      "outputs": [
        {
          "output_type": "execute_result",
          "data": {
            "text/plain": [
              "12"
            ]
          },
          "metadata": {},
          "execution_count": 7
        }
      ]
    },
    {
      "cell_type": "code",
      "source": [
        "#tensor形状改变,元素的总个数不变\n",
        "X=x.reshape(3,4)\n",
        "X,X.shape,X.numel"
      ],
      "metadata": {
        "colab": {
          "base_uri": "https://localhost:8080/"
        },
        "id": "ifm4K3HEBp4B",
        "outputId": "1d333a8b-92e3-4244-a7e0-868de57ab84b"
      },
      "execution_count": null,
      "outputs": [
        {
          "output_type": "execute_result",
          "data": {
            "text/plain": [
              "(tensor([[ 0,  1,  2,  3],\n",
              "         [ 4,  5,  6,  7],\n",
              "         [ 8,  9, 10, 11]]),\n",
              " torch.Size([3, 4]),\n",
              " <function Tensor.numel>)"
            ]
          },
          "metadata": {},
          "execution_count": 8
        }
      ]
    },
    {
      "cell_type": "code",
      "source": [
        "#创建全为0的tensor,全为1的tensor,全为随机数的tensor\n",
        "torch.zeros((2,3,4)),torch.ones((2,3,4)),torch.randn((2,3,4))"
      ],
      "metadata": {
        "colab": {
          "base_uri": "https://localhost:8080/"
        },
        "id": "JHVZVR5AB-HH",
        "outputId": "f0d74d39-0170-4f03-a23e-e5f7c241db87"
      },
      "execution_count": null,
      "outputs": [
        {
          "output_type": "execute_result",
          "data": {
            "text/plain": [
              "(tensor([[[0., 0., 0., 0.],\n",
              "          [0., 0., 0., 0.],\n",
              "          [0., 0., 0., 0.]],\n",
              " \n",
              "         [[0., 0., 0., 0.],\n",
              "          [0., 0., 0., 0.],\n",
              "          [0., 0., 0., 0.]]]),\n",
              " tensor([[[1., 1., 1., 1.],\n",
              "          [1., 1., 1., 1.],\n",
              "          [1., 1., 1., 1.]],\n",
              " \n",
              "         [[1., 1., 1., 1.],\n",
              "          [1., 1., 1., 1.],\n",
              "          [1., 1., 1., 1.]]]),\n",
              " tensor([[[-1.5139, -0.4753,  0.7102, -0.5118],\n",
              "          [-0.5484, -1.9017,  0.5431,  0.3396],\n",
              "          [ 2.1866,  1.1978, -0.9381,  0.5506]],\n",
              " \n",
              "         [[-0.7044, -0.3995, -0.0373, -0.1327],\n",
              "          [ 0.9071,  1.1344, -0.4645,  0.1911],\n",
              "          [ 0.6175,  0.0187, -0.7123, -0.3907]]]))"
            ]
          },
          "metadata": {},
          "execution_count": 11
        }
      ]
    },
    {
      "cell_type": "code",
      "source": [
        "#自定义创建tensor\n",
        "torch.tensor([[2,1,4,3],[1,2,3,4],[4,3,2,1]])"
      ],
      "metadata": {
        "colab": {
          "base_uri": "https://localhost:8080/"
        },
        "id": "ittzQZLbEK5a",
        "outputId": "a488be3c-b7ad-44d9-af71-5c4099a00b65"
      },
      "execution_count": null,
      "outputs": [
        {
          "output_type": "execute_result",
          "data": {
            "text/plain": [
              "tensor([[2, 1, 4, 3],\n",
              "        [1, 2, 3, 4],\n",
              "        [4, 3, 2, 1]])"
            ]
          },
          "metadata": {},
          "execution_count": 12
        }
      ]
    },
    {
      "cell_type": "markdown",
      "source": [
        "#tensor的运算"
      ],
      "metadata": {
        "id": "IdPVDw6GHEd9"
      }
    },
    {
      "cell_type": "code",
      "source": [
        "x=torch.tensor([1.0,2,4,8])\n",
        "y=torch.tensor([2,2,2,2])\n",
        "x+y,x-y,x*y,x/y,x**y"
      ],
      "metadata": {
        "colab": {
          "base_uri": "https://localhost:8080/"
        },
        "id": "k2uwosU5HH3w",
        "outputId": "4d7d8b10-fb50-4508-ae6f-67ec3b8f6183"
      },
      "execution_count": null,
      "outputs": [
        {
          "output_type": "execute_result",
          "data": {
            "text/plain": [
              "(tensor([ 3.,  4.,  6., 10.]),\n",
              " tensor([-1.,  0.,  2.,  6.]),\n",
              " tensor([ 2.,  4.,  8., 16.]),\n",
              " tensor([0.5000, 1.0000, 2.0000, 4.0000]),\n",
              " tensor([ 1.,  4., 16., 64.]))"
            ]
          },
          "metadata": {},
          "execution_count": 13
        }
      ]
    },
    {
      "cell_type": "code",
      "source": [
        "#求幂操作\n",
        "torch.exp(x)"
      ],
      "metadata": {
        "colab": {
          "base_uri": "https://localhost:8080/"
        },
        "id": "41murz_rHSw6",
        "outputId": "c29178d6-d6fa-40ec-af59-bce26af93daf"
      },
      "execution_count": null,
      "outputs": [
        {
          "output_type": "execute_result",
          "data": {
            "text/plain": [
              "tensor([2.7183e+00, 7.3891e+00, 5.4598e+01, 2.9810e+03])"
            ]
          },
          "metadata": {},
          "execution_count": 14
        }
      ]
    },
    {
      "cell_type": "markdown",
      "source": [
        "#向量的线性代数运算\n",
        "向量点积和矩阵乘法"
      ],
      "metadata": {
        "id": "8Q4-xuzzHjfa"
      }
    },
    {
      "cell_type": "code",
      "source": [
        "X=torch.arange(12,dtype=torch.float32).reshape((3,4))\n",
        "Y=torch.tensor([[2.0,1,4,3],[1,2,3,4],[4,3,2,1]])\n",
        "X,Y"
      ],
      "metadata": {
        "id": "9qJioIWkHvjl",
        "colab": {
          "base_uri": "https://localhost:8080/"
        },
        "outputId": "07b9692e-c6d7-4de4-bf2d-6e189ac7c99e"
      },
      "execution_count": null,
      "outputs": [
        {
          "data": {
            "text/plain": [
              "(tensor([[ 0.,  1.,  2.,  3.],\n",
              "         [ 4.,  5.,  6.,  7.],\n",
              "         [ 8.,  9., 10., 11.]]),\n",
              " tensor([[2., 1., 4., 3.],\n",
              "         [1., 2., 3., 4.],\n",
              "         [4., 3., 2., 1.]]))"
            ]
          },
          "execution_count": 16,
          "metadata": {},
          "output_type": "execute_result"
        }
      ]
    },
    {
      "cell_type": "code",
      "source": [
        "#矩阵的拼接操作\n",
        "torch.cat((X,Y),dim=0),torch.cat((X,Y),dim=1),"
      ],
      "metadata": {
        "id": "zoNMuNvVIBBv",
        "colab": {
          "base_uri": "https://localhost:8080/"
        },
        "outputId": "1926d2c9-616b-42e1-ebe9-f18bfc17bef0"
      },
      "execution_count": null,
      "outputs": [
        {
          "output_type": "execute_result",
          "data": {
            "text/plain": [
              "(tensor([[ 0.,  1.,  2.,  3.],\n",
              "         [ 4.,  5.,  6.,  7.],\n",
              "         [ 8.,  9., 10., 11.],\n",
              "         [ 2.,  1.,  4.,  3.],\n",
              "         [ 1.,  2.,  3.,  4.],\n",
              "         [ 4.,  3.,  2.,  1.]]),\n",
              " tensor([[ 0.,  1.,  2.,  3.,  2.,  1.,  4.,  3.],\n",
              "         [ 4.,  5.,  6.,  7.,  1.,  2.,  3.,  4.],\n",
              "         [ 8.,  9., 10., 11.,  4.,  3.,  2.,  1.]]))"
            ]
          },
          "metadata": {},
          "execution_count": 18
        }
      ]
    },
    {
      "cell_type": "code",
      "source": [
        "#等于判断，对比tensor中的每一个元素\n",
        "X==Y"
      ],
      "metadata": {
        "colab": {
          "base_uri": "https://localhost:8080/"
        },
        "id": "GrtQFJwEIwxw",
        "outputId": "f6e8146d-5ca8-4a34-c258-5dc52326d6a6"
      },
      "execution_count": null,
      "outputs": [
        {
          "output_type": "execute_result",
          "data": {
            "text/plain": [
              "tensor([[False,  True, False,  True],\n",
              "        [False, False, False, False],\n",
              "        [False, False, False, False]])"
            ]
          },
          "metadata": {},
          "execution_count": 20
        }
      ]
    },
    {
      "cell_type": "code",
      "source": [
        "#对张量中的X求和\n",
        "X.sum()"
      ],
      "metadata": {
        "colab": {
          "base_uri": "https://localhost:8080/"
        },
        "id": "DtmLMtXkI4gq",
        "outputId": "76ab57d2-0c42-4818-e9ba-b1dc42a1acf8"
      },
      "execution_count": null,
      "outputs": [
        {
          "output_type": "execute_result",
          "data": {
            "text/plain": [
              "tensor(66.)"
            ]
          },
          "metadata": {},
          "execution_count": 21
        }
      ]
    },
    {
      "cell_type": "markdown",
      "source": [
        "#tensor的广播机制，会先将tensor广播到相同大小，之后进行加减操作"
      ],
      "metadata": {
        "id": "zvKvCpliJc0w"
      }
    },
    {
      "cell_type": "code",
      "source": [
        "a = torch.arange(3).reshape((3,1))\n",
        "b = torch.arange(2).reshape((1,2))\n",
        "a,b"
      ],
      "metadata": {
        "colab": {
          "base_uri": "https://localhost:8080/"
        },
        "id": "TjfzyoUHJef7",
        "outputId": "29421d38-ed43-49a0-86f7-da7132353e7f"
      },
      "execution_count": null,
      "outputs": [
        {
          "output_type": "execute_result",
          "data": {
            "text/plain": [
              "(tensor([[0],\n",
              "         [1],\n",
              "         [2]]),\n",
              " tensor([[0, 1]]))"
            ]
          },
          "metadata": {},
          "execution_count": 26
        }
      ]
    },
    {
      "cell_type": "code",
      "source": [
        "a+b"
      ],
      "metadata": {
        "colab": {
          "base_uri": "https://localhost:8080/"
        },
        "id": "3bkEUXoNJqLU",
        "outputId": "eb129629-dd7f-4306-e81d-10305d52408e"
      },
      "execution_count": null,
      "outputs": [
        {
          "output_type": "execute_result",
          "data": {
            "text/plain": [
              "tensor([[0, 1],\n",
              "        [1, 2],\n",
              "        [2, 3]])"
            ]
          },
          "metadata": {},
          "execution_count": 27
        }
      ]
    },
    {
      "cell_type": "markdown",
      "source": [
        "#索引和切片"
      ],
      "metadata": {
        "id": "dsoiSyhPKWFi"
      }
    },
    {
      "cell_type": "code",
      "source": [
        "X=torch.arange(12,dtype=torch.float32).reshape((3,4))\n",
        "Y=torch.tensor([[2.0,1,4,3],[1,2,3,4],[4,3,2,1]])\n",
        "X,Y"
      ],
      "metadata": {
        "colab": {
          "base_uri": "https://localhost:8080/"
        },
        "id": "HwcCIry6KZDQ",
        "outputId": "4019f686-1658-4375-ccfa-38d25af71798"
      },
      "execution_count": null,
      "outputs": [
        {
          "output_type": "execute_result",
          "data": {
            "text/plain": [
              "(tensor([[ 0.,  1.,  2.,  3.],\n",
              "         [ 4.,  5.,  6.,  7.],\n",
              "         [ 8.,  9., 10., 11.]]),\n",
              " tensor([[2., 1., 4., 3.],\n",
              "         [1., 2., 3., 4.],\n",
              "         [4., 3., 2., 1.]]))"
            ]
          },
          "metadata": {},
          "execution_count": 28
        }
      ]
    },
    {
      "cell_type": "code",
      "source": [
        "X[-1],X[1:3]"
      ],
      "metadata": {
        "colab": {
          "base_uri": "https://localhost:8080/"
        },
        "id": "Q97irSRPJ1SP",
        "outputId": "68ed9aab-3f47-4f72-a496-f7fb4b00650a"
      },
      "execution_count": null,
      "outputs": [
        {
          "output_type": "execute_result",
          "data": {
            "text/plain": [
              "(tensor([ 8.,  9., 10., 11.]),\n",
              " tensor([[ 4.,  5.,  6.,  7.],\n",
              "         [ 8.,  9., 10., 11.]]))"
            ]
          },
          "metadata": {},
          "execution_count": 29
        }
      ]
    },
    {
      "cell_type": "code",
      "source": [
        "X[1,2]=9\n",
        "X"
      ],
      "metadata": {
        "colab": {
          "base_uri": "https://localhost:8080/"
        },
        "id": "RM6ojVbEJCcm",
        "outputId": "73789876-1288-49b0-a780-b67249aff6f5"
      },
      "execution_count": null,
      "outputs": [
        {
          "output_type": "execute_result",
          "data": {
            "text/plain": [
              "tensor([[ 0.,  1.,  2.,  3.],\n",
              "        [ 4.,  5.,  9.,  7.],\n",
              "        [ 8.,  9., 10., 11.]])"
            ]
          },
          "metadata": {},
          "execution_count": 30
        }
      ]
    },
    {
      "cell_type": "code",
      "source": [
        "X[0:2,:]=12\n",
        "X"
      ],
      "metadata": {
        "colab": {
          "base_uri": "https://localhost:8080/"
        },
        "id": "hfFwI4amI0my",
        "outputId": "0151bc1a-06bb-46c8-b0de-25a47da01a9d"
      },
      "execution_count": null,
      "outputs": [
        {
          "output_type": "execute_result",
          "data": {
            "text/plain": [
              "tensor([[12., 12., 12., 12.],\n",
              "        [12., 12., 12., 12.],\n",
              "        [ 8.,  9., 10., 11.]])"
            ]
          },
          "metadata": {},
          "execution_count": 32
        }
      ]
    },
    {
      "cell_type": "markdown",
      "source": [
        "#节省内存"
      ],
      "metadata": {
        "id": "zqllTaSbLGS9"
      }
    },
    {
      "cell_type": "code",
      "source": [
        "before = id(Y)\n",
        "Y = Y+X\n",
        "id(Y) == before"
      ],
      "metadata": {
        "colab": {
          "base_uri": "https://localhost:8080/"
        },
        "id": "Qqo8mGlVLIl-",
        "outputId": "c6c68137-44b4-4044-c217-2c856846136e"
      },
      "execution_count": null,
      "outputs": [
        {
          "output_type": "execute_result",
          "data": {
            "text/plain": [
              "False"
            ]
          },
          "metadata": {},
          "execution_count": 33
        }
      ]
    },
    {
      "cell_type": "code",
      "source": [
        "#方法1：我们可以使用一个新的矩阵Z，Z与Y的形状相等\n",
        "Z=torch.zeros_like(Y)\n",
        "print('id(Z):',id(Z))\n",
        "Z[:]=X+Y\n",
        "print('id(Z):',id(Z))"
      ],
      "metadata": {
        "colab": {
          "base_uri": "https://localhost:8080/"
        },
        "id": "hJLBwhlSLQt2",
        "outputId": "71db5f53-1e8a-4ed5-db9d-3d8ab88689e0"
      },
      "execution_count": null,
      "outputs": [
        {
          "output_type": "stream",
          "name": "stdout",
          "text": [
            "id(Z): 133582888782320\n",
            "id(Z): 133582888782320\n"
          ]
        }
      ]
    },
    {
      "cell_type": "code",
      "source": [
        "#方法2：如果在后续计算中没有用到X，可以使用X[:]=X+Y或者X+=Y来减少操作的内存开销\n",
        "before = id(X)\n",
        "X += Y\n",
        "id(X) == before\n"
      ],
      "metadata": {
        "id": "_I0LxQVrItlW",
        "colab": {
          "base_uri": "https://localhost:8080/"
        },
        "outputId": "2afd9b2d-2ad7-4bb7-fea9-8f4b1eb3d086"
      },
      "execution_count": 35,
      "outputs": [
        {
          "output_type": "execute_result",
          "data": {
            "text/plain": [
              "True"
            ]
          },
          "metadata": {},
          "execution_count": 35
        }
      ]
    },
    {
      "cell_type": "markdown",
      "source": [
        "#tensor转numpy"
      ],
      "metadata": {
        "id": "szT7HeKvOIiI"
      }
    },
    {
      "cell_type": "code",
      "source": [
        "A=X.numpy()\n",
        "B=torch.tensor(A)\n",
        "type(A),type(B)"
      ],
      "metadata": {
        "id": "4onn40P1HgN3",
        "colab": {
          "base_uri": "https://localhost:8080/"
        },
        "outputId": "a2ce5730-cc15-4289-a0ef-35dec2a947df"
      },
      "execution_count": 36,
      "outputs": [
        {
          "output_type": "execute_result",
          "data": {
            "text/plain": [
              "(numpy.ndarray, torch.Tensor)"
            ]
          },
          "metadata": {},
          "execution_count": 36
        }
      ]
    }
  ]
}